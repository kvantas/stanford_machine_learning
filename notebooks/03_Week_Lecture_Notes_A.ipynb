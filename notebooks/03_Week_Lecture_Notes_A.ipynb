{
 "cells": [
  {
   "cell_type": "markdown",
   "metadata": {},
   "source": [
    "# Logistic Regression\n",
    "\n",
    "Now we are switching from regression problems to **classification problems**. Don't be confused by the name \"Logistic Regression\"; it is named that way for historical reasons and is actually an approach to classification problems, not regression problems.\n",
    "\n",
    "## Binary Classification\n",
    "\n",
    "Instead of our output vector y being a continuous range of values, it will only be 0 or 1.\n",
    "\n",
    "$$ y \\in \\{0,1\\} $$\n",
    "\n",
    "Where 0 is usually taken as the \"negative class\" and 1 as the \"positive class\", but you are free to assign any representation to it.\n",
    "\n",
    "We're only doing two classes for now, called a \"Binary Classification Problem.\"\n",
    "\n",
    "One method is to use linear regression and map all predictions greater than 0.5 as a 1 and all less than 0.5 as a 0. This method doesn't work well because classification is not actually a linear function.\n",
    "\n",
    "### Hypothesis Representation\n",
    "\n",
    "Our hypothesis should satisfy:\n",
    "\n",
    "$$ 0 \\leq h_\\theta (x) \\leq 1 $$\n",
    "\n",
    "Our new form uses the \"Sigmoid Function,\" also called the \"Logistic Function\":\n",
    "\n",
    "$$ h_\\theta (x) =  g ( \\theta^T x ) \\\\ \n",
    "z = \\theta^T x \\\\\n",
    "g(z) = \\frac{1}{1 + e^{-z}} $$ "
   ]
  },
  {
   "cell_type": "markdown",
   "metadata": {},
   "source": [
    "![Logistic function](../img/Logistic_function.png)"
   ]
  },
  {
   "cell_type": "markdown",
   "metadata": {},
   "source": [
    "The function $g(z), shown here, maps any real number to the (0, 1) interval, making it useful for transforming an arbitrary-valued function into a function better suited for classification.\n",
    "\n",
    "We start with our old hypothesis (linear regression), except that we want to restrict the range to 0 and 1. This is accomplished by plugging $\\theta^Tx$ into the Logistic Function.\n",
    "\n",
    "$h_\\theta$ will give us the probability that our output is 1. For example, $h_\\theta=0.7$ gives us the probability of 70% that our output is 1."
   ]
  },
  {
   "cell_type": "markdown",
   "metadata": {},
   "source": [
    "$$ \\begin{align*}& h_\\theta(x) = P(y=1 | x ; \\theta) = 1 - P(y=0 | x ; \\theta) \\newline& P(y = 0 | x;\\theta) + P(y = 1 | x ; \\theta) = 1\\end{align*}$$"
   ]
  },
  {
   "cell_type": "markdown",
   "metadata": {},
   "source": [
    "Our probability that our prediction is 0 is just the complement of our probability that it is 1 (e.g. if probability that it is 1 is 70%, then the probability that it is 0 is 30%)."
   ]
  },
  {
   "cell_type": "markdown",
   "metadata": {},
   "source": [
    "## Decision Boundary\n",
    "\n",
    "In order to get our discrete 0 or 1 classification, we can translate the output of the hypothesis function as follows:\n",
    "\n",
    "$$\\begin{align*}& h_\\theta(x) \\geq 0.5 \\rightarrow y = 1 \\newline& h_\\theta(x) < 0.5 \\rightarrow y = 0 \\newline\\end{align*}$$\n",
    "\n",
    "The way our logistic function g behaves is that when its input is greater than or equal to zero, its output is greater than or equal to 0.5:\n",
    "\n",
    "$$\\begin{align*}& g(z) \\geq 0.5 \\newline& when \\; z \\geq 0\\end{align*}$$\n",
    "\n",
    "Remember:\n",
    "\n",
    "$$\\begin{align*}z=0,  e^{0}=1 \\Rightarrow  g(z)=1/2\\newline z \\to \\infty, e^{-\\infty} \\to 0 \\Rightarrow g(z)=1 \\newline z \\to -\\infty, e^{\\infty}\\to \\infty \\Rightarrow g(z)=0 \\end{align*}$$\n",
    "\n",
    "So if our input to $g$ is $\\theta^T X$, then that means:\n",
    "\n",
    "$$\\begin{align*}& h_\\theta(x) = g(\\theta^T x) \\geq 0.5 \\newline& when \\; \\theta^T x \\geq 0\\end{align*}$$\n",
    "\n",
    "From these statements we can now say:\n",
    "\n",
    "$$\\begin{align*}& \\theta^T x \\geq 0 \\Rightarrow y = 1 \\newline& \\theta^T x < 0 \\Rightarrow y = 0 \\newline\\end{align*}$$\n",
    "\n",
    "The decision boundary is the line that separates the area where y = 0 and where y = 1. It is created by our hypothesis function."
   ]
  },
  {
   "cell_type": "markdown",
   "metadata": {},
   "source": [
    "## Cost Function\n",
    "\n",
    "We cannot use the same cost function that we use for linear regression because the Logistic Function will cause the output to be wavy, causing many local optima. In other words, it will not be a convex function. Instead, our cost function for logistic regression looks like:\n",
    "\n",
    "$$\\begin{align*}& J(\\theta) = \\dfrac{1}{m} \\sum_{i=1}^m \\mathrm{Cost}(h_\\theta(x^{(i)}),y^{(i)}) \\newline & \\mathrm{Cost}(h_\\theta(x),y) = -\\log(h_\\theta(x)) \\; & \\text{if y = 1} \\newline & \\mathrm{Cost}(h_\\theta(x),y) = -\\log(1-h_\\theta(x)) \\; & \\text{if y = 0}\\end{align*}$$"
   ]
  },
  {
   "cell_type": "markdown",
   "metadata": {},
   "source": [
    "![Positive class](../img/Logistic_regression_cost_function_positive_class.png)\n",
    "![Negative class](../img/Logistic_regression_cost_function_negative_class.png)"
   ]
  },
  {
   "cell_type": "markdown",
   "metadata": {},
   "source": [
    "The more our hypothesis is off from y, the larger the cost function output. If our hypothesis is equal to y, then our cost is 0:\n",
    "\n",
    "$$ \\begin{align*}& \\mathrm{Cost}(h_\\theta(x),y) = 0 \\text{  if  } h_\\theta(x) = y \\newline & \\mathrm{Cost}(h_\\theta(x),y) \\rightarrow \\infty \\text{  if  } y = 0 \\; \\mathrm{and} \\; h_\\theta(x) \\rightarrow 1 \\newline & \\mathrm{Cost}(h_\\theta(x),y) \\rightarrow \\infty \\text{  if  } y = 1 \\; \\mathrm{and} \\; h_\\theta(x) \\rightarrow 0 \\newline \\end{align*}$$\n",
    "\n",
    "If our correct answer 'y' is 0, then the cost function will be 0 if our hypothesis function also outputs 0. If our hypothesis approaches 1, then the cost function will approach infinity.\n",
    "\n",
    "If our correct answer 'y' is 1, then the cost function will be 0 if our hypothesis function outputs 1. If our hypothesis approaches 0, then the cost function will approach infinity.\n",
    "\n",
    "Note that writing the cost function in this way guarantees that $J(\\theta)$ is convex for logistic regression. "
   ]
  },
  {
   "cell_type": "markdown",
   "metadata": {},
   "source": [
    "## Simplified Cost Function and Gradient Descent\n",
    "\n",
    "We can compress our cost function's two conditional cases into one case:\n",
    "\n",
    "$$\\mathrm{Cost}(h_\\theta(x),y) = - y \\; \\log(h_\\theta(x)) - (1 - y) \\log(1 - h_\\theta(x))$$\n",
    "\n",
    "Notice that when y is equal to 1, then the second term $(1−y)log⁡(1−h_{\\theta}(x))$ will be zero and will not affect the result. If y is equal to 0, then the first term $−ylog⁡(h_{\\theta}(x))$ will be zero and will not affect the result.\n",
    "\n",
    "We can fully write out our entire cost function as follows:\n",
    "\n",
    "$$J(\\theta) = - \\frac{1}{m} \\displaystyle \\sum_{i=1}^m [y^{(i)}\\log (h_\\theta (x^{(i)})) + (1 - y^{(i)})\\log (1 - h_\\theta(x^{(i)}))]$$\n",
    "\n",
    "A vectorized implementation is:\n",
    "\n",
    "$$\\begin{align*}\n",
    "& h = g(X\\theta)\\newline\n",
    "& J(\\theta)  = \\frac{1}{m} \\cdot \\left(-y^{T}\\log(h)-(1-y)^{T}\\log(1-h)\\right)\n",
    "\\end{align*}$$"
   ]
  },
  {
   "cell_type": "markdown",
   "metadata": {},
   "source": [
    "### Gradient Descent\n",
    "\n",
    "Remember that the general form of gradient descent is:\n",
    "\n",
    "$$\\begin{align*}& Repeat \\; \\lbrace \\newline & \\; \\theta_j := \\theta_j - \\alpha \\dfrac{\\partial}{\\partial \\theta_j}J(\\theta) \\newline & \\rbrace\\end{align*}$$\n",
    "\n",
    "We can work out the derivative part using calculus to get:\n",
    "\n",
    "$$ \\begin{align*}\n",
    "& Repeat \\; \\lbrace \\newline\n",
    "& \\; \\theta_j := \\theta_j - \\frac{\\alpha}{m} \\sum_{i=1}^m (h_\\theta(x^{(i)}) - y^{(i)}) x_j^{(i)} \\newline & \\rbrace\n",
    "\\end{align*}$$\n",
    "\n",
    "Notice that this algorithm is identical to the one we used in linear regression. We still have to simultaneously update all values in theta.\n",
    "\n",
    "A vectorized implementation is:\n",
    "\n",
    "$$ \\theta := \\theta - \\frac{\\alpha}{m} X^{T} (g(X \\theta ) - \\vec{y})$$"
   ]
  },
  {
   "cell_type": "markdown",
   "metadata": {},
   "source": [
    "### Partial derivative of $J(\\theta)$\n",
    "\n",
    "First calculate derivative of sigmoid function (it will be useful while finding partial derivative of $J(\\theta)$:\n",
    "\n",
    "$$\\begin{align*}\\sigma(x)'&=\\left(\\frac{1}{1+e^{-x}}\\right)'=\\frac{-(1+e^{-x})'}{(1+e^{-x})^2}=\\frac{-1'-(e^{-x})'}{(1+e^{-x})^2}=\\frac{0-(-x)'(e^{-x})}{(1+e^{-x})^2}=\\frac{-(-1)(e^{-x})}{(1+e^{-x})^2}=\\frac{e^{-x}}{(1+e^{-x})^2} \\newline &=\\left(\\frac{1}{1+e^{-x}}\\right)\\left(\\frac{e^{-x}}{1+e^{-x}}\\right)=\\sigma(x)\\left(\\frac{+1-1 + e^{-x}}{1+e^{-x}}\\right)=\\sigma(x)\\left(\\frac{1 + e^{-x}}{1+e^{-x}} - \\frac{1}{1+e^{-x}}\\right)=\\sigma(x)(1 - \\sigma(x))\\end{align*}$$\n",
    "\n",
    "Now we are ready to find out resulting partial derivative:\n",
    "\n",
    "$$\\begin{align*}\\frac{\\partial}{\\partial \\theta_j} J(\\theta) &= \\frac{\\partial}{\\partial \\theta_j} \\frac{-1}{m}\\sum_{i=1}^m \\left [ y^{(i)} log (h_\\theta(x^{(i)})) + (1-y^{(i)}) log (1 - h_\\theta(x^{(i)})) \\right ] \\newline&= - \\frac{1}{m}\\sum_{i=1}^m \\left [     y^{(i)} \\frac{\\partial}{\\partial \\theta_j} log (h_\\theta(x^{(i)}))   + (1-y^{(i)}) \\frac{\\partial}{\\partial \\theta_j} log (1 - h_\\theta(x^{(i)}))\\right ] \\newline&= - \\frac{1}{m}\\sum_{i=1}^m \\left [     \\frac{y^{(i)} \\frac{\\partial}{\\partial \\theta_j} h_\\theta(x^{(i)})}{h_\\theta(x^{(i)})}   + \\frac{(1-y^{(i)})\\frac{\\partial}{\\partial \\theta_j} (1 - h_\\theta(x^{(i)}))}{1 - h_\\theta(x^{(i)})}\\right ] \\newline&= - \\frac{1}{m}\\sum_{i=1}^m \\left [     \\frac{y^{(i)} \\frac{\\partial}{\\partial \\theta_j} \\sigma(\\theta^T x^{(i)})}{h_\\theta(x^{(i)})}   + \\frac{(1-y^{(i)})\\frac{\\partial}{\\partial \\theta_j} (1 - \\sigma(\\theta^T x^{(i)}))}{1 - h_\\theta(x^{(i)})}\\right ] \\newline&= - \\frac{1}{m}\\sum_{i=1}^m \\left [     \\frac{y^{(i)} \\sigma(\\theta^T x^{(i)}) (1 - \\sigma(\\theta^T x^{(i)})) \\frac{\\partial}{\\partial \\theta_j} \\theta^T x^{(i)}}{h_\\theta(x^{(i)})}   + \\frac{- (1-y^{(i)}) \\sigma(\\theta^T x^{(i)}) (1 - \\sigma(\\theta^T x^{(i)})) \\frac{\\partial}{\\partial \\theta_j} \\theta^T x^{(i)}}{1 - h_\\theta(x^{(i)})}\\right ] \\newline&= - \\frac{1}{m}\\sum_{i=1}^m \\left [     \\frac{y^{(i)} h_\\theta(x^{(i)}) (1 - h_\\theta(x^{(i)})) \\frac{\\partial}{\\partial \\theta_j} \\theta^T x^{(i)}}{h_\\theta(x^{(i)})}   - \\frac{(1-y^{(i)}) h_\\theta(x^{(i)}) (1 - h_\\theta(x^{(i)})) \\frac{\\partial}{\\partial \\theta_j} \\theta^T x^{(i)}}{1 - h_\\theta(x^{(i)})}\\right ] \\newline&= - \\frac{1}{m}\\sum_{i=1}^m \\left [     y^{(i)} (1 - h_\\theta(x^{(i)})) x^{(i)}_j - (1-y^{(i)}) h_\\theta(x^{(i)}) x^{(i)}_j\\right ] \\newline&= - \\frac{1}{m}\\sum_{i=1}^m \\left [     y^{(i)} (1 - h_\\theta(x^{(i)})) - (1-y^{(i)}) h_\\theta(x^{(i)}) \\right ] x^{(i)}_j \\newline&= - \\frac{1}{m}\\sum_{i=1}^m \\left [     y^{(i)} - y^{(i)} h_\\theta(x^{(i)}) - h_\\theta(x^{(i)}) + y^{(i)} h_\\theta(x^{(i)}) \\right ] x^{(i)}_j \\newline&= - \\frac{1}{m}\\sum_{i=1}^m \\left [ y^{(i)} - h_\\theta(x^{(i)}) \\right ] x^{(i)}_j  \\newline&= \\frac{1}{m}\\sum_{i=1}^m \\left [ h_\\theta(x^{(i)}) - y^{(i)} \\right ] x^{(i)}_j\\end{align*}$$\n",
    "\n",
    "The vectorized version is:\n",
    "$$ \\nabla J(\\theta) = \\frac{1}{m} \\cdot  X^T \\cdot \\left(g\\left(X\\cdot\\theta\\right) - \\vec{y}\\right)$$"
   ]
  },
  {
   "cell_type": "markdown",
   "metadata": {},
   "source": [
    "## Advanced Optimization\n",
    "\n",
    "\"Conjugate gradient\", \"BFGS\", and \"L-BFGS\" are more sophisticated, faster ways to optimize $\\theta$ that can be used instead of gradient descent. A. Ng suggests not to write these more sophisticated algorithms yourself (unless you are an expert in numerical computing) but use the libraries instead, as they're already tested and highly optimized."
   ]
  },
  {
   "cell_type": "markdown",
   "metadata": {},
   "source": [
    "## Multiclass Classification: One-vs-all\n",
    "\n",
    "Now we will approach the classification of data into more than two categories. Instead of y = {0,1} we will expand our definition so that y = {0,1...n}.\n",
    "\n",
    "In this case we divide our problem into n+1 (+1 because the index starts at 0) binary classification problems; in each one, we predict the probability that 'y' is a member of one of our classes.\n",
    "\n",
    "$$\\begin{align*}& y \\in \\lbrace0, 1 ... n\\rbrace \\newline& h_\\theta^{(0)}(x) = P(y = 0 | x ; \\theta) \\newline& h_\\theta^{(1)}(x) = P(y = 1 | x ; \\theta) \\newline& \\cdots \\newline& h_\\theta^{(n)}(x) = P(y = n | x ; \\theta) \\newline& \\mathrm{prediction} = \\max_i( h_\\theta ^{(i)}(x) )\\newline\\end{align*}$$ \n",
    "\n",
    "We are basically choosing one class and then lumping all the others into a single second class. We do this repeatedly, applying binary logistic regression to each case, and then use the hypothesis that returned the highest value as our prediction."
   ]
  }
 ],
 "metadata": {
  "kernelspec": {
   "display_name": "Python 3",
   "language": "python",
   "name": "python3"
  },
  "language_info": {
   "codemirror_mode": {
    "name": "ipython",
    "version": 3
   },
   "file_extension": ".py",
   "mimetype": "text/x-python",
   "name": "python",
   "nbconvert_exporter": "python",
   "pygments_lexer": "ipython3",
   "version": "3.6.2"
  }
 },
 "nbformat": 4,
 "nbformat_minor": 2
}
