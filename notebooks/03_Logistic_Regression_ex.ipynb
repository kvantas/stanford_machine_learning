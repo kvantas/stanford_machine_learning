{
 "cells": [
  {
   "cell_type": "markdown",
   "metadata": {},
   "source": [
    "# Logistic Regression\n",
    "\n",
    "## Introduction\n",
    "\n",
    "In this exercise, you will build a logistic regression model to predict whether a student gets admitted into a university. Suppose that you are the administrator of a university department and you want to determine each applicant's chance of admission based on their results on two exams. You have historical data from previous applicants that you can use as a training set for logistic regression. For each training example, you have the applicant's scores on two exams and the admissions decision.\n",
    "\n",
    "Your task is to build a classification model that estimates an applicant's probability of admission based the scores from those two exams."
   ]
  },
  {
   "cell_type": "code",
   "execution_count": 17,
   "metadata": {},
   "outputs": [
    {
     "name": "stdout",
     "output_type": "stream",
     "text": [
      "First 10 examples from the dataset:\n",
      "[[ 30.28671077  43.89499752   0.        ]\n",
      " [ 35.84740877  72.90219803   0.        ]\n",
      " [ 60.18259939  86.3085521    1.        ]\n",
      " [ 79.03273605  75.34437644   1.        ]\n",
      " [ 45.08327748  56.31637178   0.        ]\n",
      " [ 61.10666454  96.51142588   1.        ]\n",
      " [ 75.02474557  46.55401354   1.        ]\n",
      " [ 76.0987867   87.42056972   1.        ]\n",
      " [ 84.43281996  43.53339331   1.        ]]\n"
     ]
    }
   ],
   "source": [
    "import numpy as np\n",
    "import matplotlib.pyplot as plt\n",
    "%matplotlib inline\n",
    "\n",
    "# Load data \n",
    "data = np.loadtxt('../data/ex2data1.txt', delimiter=',')\n",
    "print(\"First 10 examples from the dataset:\")\n",
    "print(data[1:10,])\n",
    "\n",
    "# The first two columns contains the exam scores and the third column\n",
    "# contains the label.\n",
    "X = np.c_[data[:,[0,1]]]\n",
    "y = np.c_[data[:,2]]"
   ]
  },
  {
   "cell_type": "markdown",
   "metadata": {},
   "source": [
    "## Visualizing the data\n",
    "\n",
    "Before starting to implement any learning algorithm, it is always good to visualize the data if possible."
   ]
  },
  {
   "cell_type": "code",
   "execution_count": 18,
   "metadata": {},
   "outputs": [
    {
     "data": {
      "image/png": "[encoded data removed]",
      "text/plain": [
       "<matplotlib.figure.Figure at 0x1e0a4d5d390>"
      ]
     },
     "metadata": {},
     "output_type": "display_data"
    }
   ],
   "source": [
    "# plotting function\n",
    "def plotData(X, y, label_x, label_y, label_pos, label_neg):\n",
    "    \"\"\"\n",
    "    PLOTDATA Plots the data points X and y into a new figure \n",
    "    PLOTDATA(x,y) plots the data points with + for the positive examples\n",
    "    and o for the negative examples. X is assumed to be a Mx2 numpy array.\n",
    "\n",
    "    \"\"\"\n",
    "    # Get indexes for class 0 and class 1\n",
    "    neg = np.squeeze(y == 0)\n",
    "    pos = np.squeeze(y == 1)\n",
    "    \n",
    "    # plot examples\n",
    "    axes = plt.gca()\n",
    "    axes.scatter(x = X[pos, 0], y = X[pos, 1], c= 'black', marker= '+', s=60,\n",
    "                linewidth=3, label=label_pos)\n",
    "    axes.scatter(x = X[neg, 0], y = X[neg, 1], c='y', s=60, marker = 'o',\n",
    "                label=label_neg)\n",
    "    axes.set_xlabel(label_x)\n",
    "    axes.set_ylabel(label_y)\n",
    "    axes.legend(frameon= True, fancybox = True)\n",
    "\n",
    "\n",
    "plotData(X, y, label_x =  'Exam 1 score', label_y = 'Exam 2 score',\n",
    "         label_pos = 'Admitted', label_neg = 'Not admitted')"
   ]
  },
  {
   "cell_type": "markdown",
   "metadata": {},
   "source": [
    "## Implementation\n",
    "\n",
    "### Sigmoid function\n",
    "\n",
    "Before you start with the actual cost function, recall that the logistic regression hypothesis is defined as:\n",
    "\n",
    "$$ h_\\theta (x) =  g ( \\theta^T x ) \\\\ \n",
    "z = \\theta^T x \\\\\n",
    "g(z) = \\frac{1}{1 + e^{-z}} $$ \n",
    "\n",
    "Your first step is to implement this function in sigmoid so it can be called by the rest of your program."
   ]
  },
  {
   "cell_type": "code",
   "execution_count": 19,
   "metadata": {
    "collapsed": true
   },
   "outputs": [],
   "source": [
    "def sigmoid(z):\n",
    "    \"\"\"\n",
    "    SIGMOID Compute sigmoid function\n",
    "    SIGMOID(z) computes the sigmoid of z.\n",
    "    \"\"\"\n",
    "    return 1/(1 + np.exp(-z))"
   ]
  },
  {
   "cell_type": "markdown",
   "metadata": {},
   "source": [
    "## Cost function and gradient\n",
    "\n",
    "Now you will implement the cost function and gradient for logistic regression. Complete the code in costFunction to return the cost and gradient.\n",
    "\n",
    "Recall that the cost function in logistic regression is:\n",
    "\n",
    "$$J(\\theta) = - \\frac{1}{m} \\displaystyle \\sum_{i=1}^m [y^{(i)}\\log (h_\\theta (x^{(i)})) + (1 - y^{(i)})\\log (1 - h_\\theta(x^{(i)}))]$$\n",
    "\n",
    "and the gradient of the cost is a vector of the same length as $\\theta$ where the $j^{th}$ element (for j = 0, 1, ..., n) is defined as follows:\n",
    "\n",
    "$$ \\frac{\\partial J(\\theta)}{\\partial \\theta_j}  = \\frac{1}{m}\\sum_{i=1}^m \\left [ h_\\theta(x^{(i)}) - y^{(i)} \\right ] x^{(i)}_j $$\n",
    "\n",
    "Note that while this gradient looks identical to the linear regression gradient, the formula is actually different because linear and logistic regression have different definitions of $h_\\theta(x)$."
   ]
  },
  {
   "cell_type": "code",
   "execution_count": 20,
   "metadata": {
    "collapsed": true
   },
   "outputs": [],
   "source": [
    "def costFunction(theta, X, y):\n",
    "    \"\"\"\n",
    "    COSTFUNCTION Compute cost for logistic regression\n",
    "    J = COSTFUNCTION(theta, X, y) computes the cost of using theta as the\n",
    "    parameter for logistic regression\n",
    "    \"\"\"\n",
    "    \n",
    "    m = y.size  \n",
    "    hetta = sigmoid(X.dot(theta)).reshape(y.shape)\n",
    "    J = 1/m * np.sum(-y * np.log(hetta) - (1-y) * np.log(1-hetta), axis = 0)\n",
    "\n",
    "    # if cost is nan return Inf\n",
    "    if np.isnan(J[0]):\n",
    "        return(np.inf)\n",
    "    return J[0]\n",
    "\n",
    "def gradFunction(theta, X, y):\n",
    "    \"\"\"\n",
    "    GRADFUNCTION Compute gradient for logistic regression\n",
    "    gradFunction = GRADFUNCTION(theta, X, y) computes gradient of the cost\n",
    "    for logistic regression w.r.t. to the parameters.\n",
    "\n",
    "    \"\"\"\n",
    "    m = y.size  \n",
    "    hetta = sigmoid(X.dot(theta))   \n",
    "    hetta = sigmoid(X.dot(theta)).reshape(y.shape)\n",
    "    grad = 1/m * np.sum((hetta - y)*(X), axis = 0)\n",
    "    return grad"
   ]
  },
  {
   "cell_type": "markdown",
   "metadata": {},
   "source": [
    "Using the initial parameters of $\\theta = 0$ you should see that the cost is about 0.693."
   ]
  },
  {
   "cell_type": "code",
   "execution_count": 21,
   "metadata": {},
   "outputs": [
    {
     "name": "stdout",
     "output_type": "stream",
     "text": [
      "Cost at initial theta (zeros): 0.69314718056\n",
      "Gradient at initial theta (zeros): \n",
      "\n",
      "[ -0.1        -12.00921659 -11.26284221]\n"
     ]
    }
   ],
   "source": [
    "# Setup the data matrix appropriately, and add ones for the intercept term\n",
    "m, n = X.shape\n",
    "\n",
    "# Add intercept term to x\n",
    "X = np.c_[np.ones(X.shape[0]), X]\n",
    "\n",
    "# Initialize fitting parameters\n",
    "initial_theta = np.zeros(X.shape[1])\n",
    "\n",
    "# Compute and display initial cost and gradient\n",
    "cost = costFunction(initial_theta, X, y)\n",
    "grad = gradFunction(initial_theta, X, y)\n",
    "print('Cost at initial theta (zeros):', str(cost));\n",
    "print('Gradient at initial theta (zeros): \\n');\n",
    "print(grad)"
   ]
  },
  {
   "cell_type": "markdown",
   "metadata": {},
   "source": [
    "## Learning parameters using optimization\n",
    "\n",
    "In the previous assignment, you found the optimal parameters of a linear regression model by implementing gradent descent. You wrote a cost function and calculated its gradient, then took a gradient descent step accordingly.\n",
    "This time, instead of taking gradient descent steps, you will use an scipy built-in function."
   ]
  },
  {
   "cell_type": "code",
   "execution_count": 22,
   "metadata": {},
   "outputs": [
    {
     "name": "stdout",
     "output_type": "stream",
     "text": [
      "Cost for optimal parameters =  0.2034977015895099\n"
     ]
    }
   ],
   "source": [
    "from scipy.optimize import minimize\n",
    "\n",
    "# supress warnings from optimization\n",
    "import warnings\n",
    "warnings.simplefilter(\"ignore\")\n",
    "\n",
    "optim = minimize(fun = costFunction, x0=initial_theta, args=(X,y), \n",
    "                 method='BFGS', jac=gradFunction,\n",
    "                 options={'maxiter':400})\n",
    "\n",
    "print('Cost for optimal parameters = ', str(optim.fun))"
   ]
  },
  {
   "cell_type": "markdown",
   "metadata": {},
   "source": [
    "If you have completed the costFunction correctly, minimize will converge on the right optimization parameters and return the final values of the cost and $\\theta$. You should see that the cost is about 0.203.\n",
    "\n",
    "Notice that by using minimize, you did not have to write any loops yourself, or set a learning rate like you did for gradient descent. This is all done by minimize: you only needed to provide a function calculating the cost and the gradient.\n",
    "\n",
    "The optimal parameters will then be used to plot the decision boundary on the training data."
   ]
  },
  {
   "cell_type": "code",
   "execution_count": 24,
   "metadata": {},
   "outputs": [
    {
     "data": {
      "image/png": "[encoded data removed]",
      "text/plain": [
       "<matplotlib.figure.Figure at 0x1e0a4d9ee80>"
      ]
     },
     "metadata": {},
     "output_type": "display_data"
    }
   ],
   "source": [
    "# plot data and linear boundary\n",
    "\n",
    "plotData(X[:,[1,2]], y, 'Exam 1 score', 'Exam 2 score', 'Admitted', 'Not admitted')\n",
    "\n",
    "x1_min, x1_max = X[:,1].min(), X[:,1].max(),\n",
    "x2_min, x2_max = X[:,2].min(), X[:,2].max(),\n",
    "\n",
    "xx1, xx2 = np.meshgrid(np.linspace(x1_min, x1_max), np.linspace(x2_min, x2_max))\n",
    "\n",
    "h = sigmoid(np.c_[np.ones((xx1.ravel().shape[0],1)), xx1.ravel(), xx2.ravel()].dot(optim.x))\n",
    "h = h.reshape(xx1.shape)\n",
    "\n",
    "plt.contour(xx1, xx2, h, [0.5], linewidths=1, colors='b')\n",
    "plt.show()"
   ]
  }
 ],
 "metadata": {
  "kernelspec": {
   "display_name": "Python 3",
   "language": "python",
   "name": "python3"
  },
  "language_info": {
   "codemirror_mode": {
    "name": "ipython",
    "version": 3
   },
   "file_extension": ".py",
   "mimetype": "text/x-python",
   "name": "python",
   "nbconvert_exporter": "python",
   "pygments_lexer": "ipython3",
   "version": "3.6.2"
  }
 },
 "nbformat": 4,
 "nbformat_minor": 2
}
