{
 "cells": [
  {
   "cell_type": "markdown",
   "metadata": {},
   "source": [
    "# Regularization\n",
    "\n",
    "## The Problem of Overfitting\n",
    "\n",
    "Regularization is designed to address the problem of overfitting.\n",
    "\n",
    "High bias or underfitting is when the form of our hypothesis function h maps poorly to the trend of the data. It is usually caused by a function that is too simple or uses too few features. eg. if we take $h_\\theta(x) = \\theta_0 + \\theta_1x_1 + \\theta_2x_2$ then we are making an initial assumption that a linear model will fit the training data well and will be able to generalize but that may not be the case.\n",
    "\n",
    "At the other extreme, overfitting or high variance is caused by a hypothesis function that fits the available data but does not generalize well to predict new data. It is usually caused by a complicated function that creates a lot of unnecessary curves and angles unrelated to the data.\n",
    "\n",
    "This terminology is applied to both linear and logistic regression. There are two main options to address the issue of overfitting:\n",
    "\n",
    "1. Reduce the number of features:\n",
    "  * Manually select which features to keep.\n",
    "  * Use a model selection algorithm.\n",
    "2. Regularization\n",
    "\n",
    "Keep all the features, but reduce the parameters $\\theta_j$.\n",
    "\n",
    "Regularization works well when we have a lot of slightly useful features."
   ]
  },
  {
   "cell_type": "markdown",
   "metadata": {},
   "source": [
    "## Cost Function\n",
    "\n",
    "If we have overfitting from our hypothesis function, we can reduce the weight that some of the terms in our function carry by increasing their cost.\n",
    "\n",
    "Say we wanted to make the following function more quadratic:\n",
    "\n",
    "$$\\theta_0 + \\theta_1x + \\theta_2x^2 + \\theta_3x^3 + \\theta_4x^4$$\n",
    "\n",
    "We'll want to eliminate the influence of $\\theta_3x^3$ and $\\theta_4x^4$. Without actually getting rid of these features or changing the form of our hypothesis, we can instead modify our **cost function**:\n",
    "\n",
    "$$min_\\theta\\ \\frac{1}{2m}\\sum_{i=1}^m (h_\\theta(x^{(i)}) - y^{(i)})^2 + 1000\\cdot\\theta_3^2 + 1000\\cdot\\theta_4^2$$\n",
    "\n",
    "We've added two extra terms at the end to inflate the cost of $\\theta_3$ and $\\theta_4$. Now, in order for the cost function to get close to zero, we will have to reduce the values of $\\theta_3$ and $\\theta_4$ to near zero. This will in turn greatly reduce the values of $\\theta_3x^3$ and $\\theta_4x^4$ in our hypothesis function.\n",
    "\n",
    "We could also regularize all of our theta parameters in a single summation:\n",
    "\n",
    "$min_\\theta\\ \\dfrac{1}{2m}\\ \\left[ \\sum_{i=1}^m (h_\\theta(x^{(i)}) - y^{(i)})^2 + \\lambda\\ \\sum_{j=1}^n \\theta_j^2 \\right]$\n",
    "\n",
    "The $\\lambda$, or lambda, is the regularization parameter. It determines how much the costs of our theta parameters are inflated. You can visualize the effect of regularization in this interactive plot : https://www.desmos.com/calculator/1hexc8ntqp\n",
    "\n",
    "Using the above cost function with the extra summation, we can smooth the output of our hypothesis function to reduce overfitting. If lambda is chosen to be too large, it may smooth out the function too much and cause underfitting."
   ]
  },
  {
   "cell_type": "markdown",
   "metadata": {},
   "source": [
    "## Regularized Linear Regression\n",
    "\n",
    "We can apply regularization to both linear regression and logistic regression. We will approach linear regression first.\n",
    "Gradient Descent\n",
    "\n",
    "### Gradient Descent\n",
    "\n",
    "We will modify our gradient descent function to separate out $\\theta_0$ from the rest of the parameters because we do not want to penalize $\\theta_0$.\n",
    "\n",
    "$$\\begin{align*}\n",
    "& \\text{Repeat}\\ \\lbrace \\newline\n",
    "& \\ \\ \\ \\ \\theta_0 := \\theta_0 - \\alpha\\ \\frac{1}{m}\\ \\sum_{i=1}^m (h_\\theta(x^{(i)}) - y^{(i)})x_0^{(i)} \\newline\n",
    "& \\ \\ \\ \\ \\theta_j := \\theta_j - \\alpha\\ \\left[ \\left( \\frac{1}{m}\\ \\sum_{i=1}^m (h_\\theta(x^{(i)}) - y^{(i)})x_j^{(i)} \\right) + \\frac{\\lambda}{m}\\theta_j \\right] &\\ \\ \\ \\ \\ \\ \\ \\ \\ \\ j \\in \\lbrace 1,2...n\\rbrace\\newline\n",
    "& \\rbrace\n",
    "\\end{align*}$$\n",
    "\n",
    "The term $\\frac{\\lambda}{m}\\theta_j$ performs our regularization.\n",
    "\n",
    "With some manipulation our update rule can also be represented as:\n",
    "\n",
    "$$\\theta_j := \\theta_j(1 - \\alpha\\frac{\\lambda}{m}) - \\alpha\\frac{1}{m}\\sum_{i=1}^m(h_\\theta(x^{(i)}) - y^{(i)})x_j^{(i)}$$\n",
    "\n",
    "The first term in the above equation, $1 - \\alpha\\frac{\\lambda}{m}$ will always be less than 1. Intuitively you can see it as reducing the value of $\\theta_j$ by some amount on every update. Notice that the second term is now exactly the same as it was before.\n",
    "\n",
    "### Normal Equation\n",
    "\n",
    "Now let's approach regularization using the alternate method of the non-iterative normal equation.\n",
    "\n",
    "To add in regularization, the equation is the same as our original, except that we add another term inside the parentheses:\n",
    "\n",
    "$$\\theta = \\left( X^TX + \\lambda \\cdot I \\right)^{-1} X^Ty$$\n",
    "\n",
    "Recall that if $m \\le n$, then $X^TX$ is non-invertible. However, when we add the term $\\lambda I$, then $X^TX + \\lambda I$ becomes invertible."
   ]
  }
 ],
 "metadata": {
  "kernelspec": {
   "display_name": "Python 3",
   "language": "python",
   "name": "python3"
  },
  "language_info": {
   "codemirror_mode": {
    "name": "ipython",
    "version": 3
   },
   "file_extension": ".py",
   "mimetype": "text/x-python",
   "name": "python",
   "nbconvert_exporter": "python",
   "pygments_lexer": "ipython3",
   "version": "3.6.2"
  }
 },
 "nbformat": 4,
 "nbformat_minor": 2
}
