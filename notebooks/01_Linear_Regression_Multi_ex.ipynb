{
 "cells": [
  {
   "cell_type": "markdown",
   "metadata": {},
   "source": [
    "# Linear regression with multiple variables\n",
    "\n",
    "In this part, you will implement linear regression with multiple variables to predict the prices of houses. Suppose you are selling your house and you want to know what a good market price would be. One way to do this is to\n",
    "first collect information on recent houses sold and make a model of housing prices.\n",
    "\n",
    "The file ex1data2.txt contains a training set of housing prices in Portland, Oregon. The first column is the size of the house (in square feet), the second column is the number of bedrooms, and the third column is the price of the house."
   ]
  },
  {
   "cell_type": "code",
   "execution_count": 1,
   "metadata": {},
   "outputs": [
    {
     "name": "stdout",
     "output_type": "stream",
     "text": [
      "[[  1.60000000e+03   3.00000000e+00   3.29900000e+05]\n",
      " [  2.40000000e+03   3.00000000e+00   3.69000000e+05]\n",
      " [  1.41600000e+03   2.00000000e+00   2.32000000e+05]\n",
      " [  3.00000000e+03   4.00000000e+00   5.39900000e+05]\n",
      " [  1.98500000e+03   4.00000000e+00   2.99900000e+05]\n",
      " [  1.53400000e+03   3.00000000e+00   3.14900000e+05]\n",
      " [  1.42700000e+03   3.00000000e+00   1.98999000e+05]\n",
      " [  1.38000000e+03   3.00000000e+00   2.12000000e+05]\n",
      " [  1.49400000e+03   3.00000000e+00   2.42500000e+05]]\n"
     ]
    }
   ],
   "source": [
    "import numpy as np\n",
    "import matplotlib.pyplot as plt\n",
    "data = np.loadtxt('../data/ex1data2.txt', delimiter=',')\n",
    "print(data[1:10,])"
   ]
  },
  {
   "cell_type": "markdown",
   "metadata": {},
   "source": [
    "## Feature Normalization\n",
    "\n",
    "The script will start by loading and displaying some values from this dataset. By looking at the values, note that house sizes are about 1000 times the number of bedrooms. When features differ by orders of magnitude, first performing feature scaling can make gradient descent converge much more quickly."
   ]
  },
  {
   "cell_type": "markdown",
   "metadata": {
    "collapsed": true
   },
   "source": [
    "Your task here is to complete the code in featureNormalize to\n",
    "\n",
    "* Subtract the mean value of each feature from the dataset.\n",
    "* After subtracting the mean, additionally scale (divide) the feature values by their respective \"standard deviations.\"\n",
    "\n",
    "The standard deviation is a way of measuring how much variation there is in the range of values of a particular feature (most data points will lie within $\\pm2$ standard deviations of the mean); this is an alternative to taking the range of values (max-min)."
   ]
  },
  {
   "cell_type": "code",
   "execution_count": 2,
   "metadata": {
    "collapsed": true
   },
   "outputs": [],
   "source": [
    "def featureNormalize(X):\n",
    "    \"\"\"\n",
    "    FEATURENORMALIZE(X) returns a normalized version of X where\n",
    "    the mean value of each feature is 0 and the standard deviation\n",
    "    is 1. This is often a good preprocessing step to do when\n",
    "    working with learning algorithms.\n",
    "    \"\"\"\n",
    "    \n",
    "    mu = X.mean(axis = 0, keepdims = True)\n",
    "    sigma = X.std(axis = 0, keepdims = True)\n",
    "    \n",
    "    Xnorm = (X - mu) / sigma\n",
    "    \n",
    "    return Xnorm, mu, sigma\n",
    "\n",
    "# Scale features and set them to zero mean\n",
    "X = np.c_[data[:,[0,1]]]\n",
    "y = np.c_[data[:,2]]\n",
    "\n",
    "# Normalizing Features\n",
    "[Xnorm, mu, sigma] = featureNormalize(X)\n",
    "\n",
    "# Add intercept term to X\n",
    "Xnorm = np.c_[np.ones(Xnorm.shape[0]), Xnorm]"
   ]
  },
  {
   "cell_type": "markdown",
   "metadata": {},
   "source": [
    "## Gradient Descent\n",
    "\n",
    "Previously, you implemented gradient descent on a univariate regression problem. The only difference now is that there is one more feature in the matrix X. The hypothesis function and the batch gradient descent update rule remain unchanged.\n",
    "\n",
    "**Implementation Note:** In the multivariate case, the cost function can also be written in the following vectorized form:\n",
    "\n",
    "\\begin{equation}\n",
    "J(\\theta) = \\frac{1}{2m} (X\\theta- {y})^{T}(X\\theta- {y})\n",
    "\\end{equation}\n",
    "\n",
    "where\n",
    "\n",
    "\\begin{equation}\n",
    "X = \n",
    "\\begin{bmatrix}\n",
    "- (x^{(1)})^{T} - \\\\\n",
    "- (x^{(2)})^{T} - \\\\\n",
    "\\vdots \\\\\n",
    "- (x^{(m)})^{T} - \\\\\n",
    "\\end{bmatrix}\n",
    "\\end{equation}\n",
    "\n",
    "and\n",
    "\n",
    "\\begin{equation}\n",
    "y = \n",
    "\\begin{bmatrix}\n",
    "y^{(1)} \\\\\n",
    "y^{(2)} \\\\\n",
    "\\vdots \\\\\n",
    "y^{(m)} \\\\\n",
    "\\end{bmatrix}\n",
    "\\end{equation}"
   ]
  },
  {
   "cell_type": "code",
   "execution_count": 3,
   "metadata": {},
   "outputs": [
    {
     "data": {
      "image/png": "[encoded data removed]",
      "text/plain": [
       "<matplotlib.figure.Figure at 0x257e73ba400>"
      ]
     },
     "metadata": {},
     "output_type": "display_data"
    },
    {
     "name": "stdout",
     "output_type": "stream",
     "text": [
      "Theta computed from gradient descent: \n",
      "\n",
      "[[ 334302.06399328]\n",
      " [  99411.44947359]\n",
      " [   3267.01285407]]\n",
      "\n",
      "Predicted price of a 1650 sq-ft, 3 br house (using gradient descent): $286003.88\n"
     ]
    }
   ],
   "source": [
    "# Choose some alpha value\n",
    "alpha = 0.01\n",
    "num_iters = 400\n",
    "\n",
    "# Compute cost for linear regression\n",
    "def computeCost(X, y, theta):\n",
    "    \"\"\"\n",
    "    COMPUTECOST Compute cost for linear regression\n",
    "    J = COMPUTECOST(X, y, theta) computes the cost of using theta as the\n",
    "    parameter for linear regression to fit the data points in X and y\n",
    "    \"\"\"\n",
    "    \n",
    "    m = y.size\n",
    "    J = 1 / (2 * m) * np.sum((X.dot(theta) - y)**2)\n",
    "    \n",
    "    return(J)\n",
    "\n",
    "# Perform gradient descent to learn theta\n",
    "def gradientDescent(X, y, theta, alpha, num_iters):\n",
    "    \"\"\"\n",
    "    GRADIENTDESCENT Performs gradient descent to learn theta\n",
    "    theta = GRADIENTDESENT(X, y, theta, alpha, num_iters) updates theta by \n",
    "    taking num_iters gradient steps with learning rate alpha\n",
    "    \"\"\"\n",
    "    \n",
    "    m = y.size\n",
    "    J_history = np.zeros([num_iters, 1])\n",
    "    \n",
    "    for i in np.arange(num_iters):\n",
    "        h = X.dot(theta)\n",
    "        theta = theta - alpha * 1 / m * (X.T.dot(h - y))\n",
    "        J_history[i] = computeCost(X, y, theta)\n",
    "    \n",
    "    return theta, J_history\n",
    "\n",
    "# Init Theta and Run Gradient Descent \n",
    "theta = np.zeros([3,1])\n",
    "[theta, J_history] = gradientDescent(Xnorm, y, theta, alpha, num_iters)\n",
    "\n",
    "# Plot the convergence graph\n",
    "plt.plot(J_history)\n",
    "plt.ylabel('Cost J')\n",
    "plt.xlabel('Number of iterations')\n",
    "plt.show()\n",
    "\n",
    "# Display gradient descent's result\n",
    "print('Theta computed from gradient descent: \\n');\n",
    "print(theta);\n",
    "\n",
    "# Estimate the price of a 1650 sq-ft, 3 br house\n",
    "# Recall that the first column of X is all-ones. Thus, it does not need to be \n",
    "# normalized.\n",
    "\n",
    "Xnew = np.array([1, (1650 - mu[0,0]) / sigma[0,0], 3 - mu[0,1]/sigma[0,1]])\n",
    "price = Xnew.dot(theta).round(2)[0]\n",
    "\n",
    "print(\"\\nPredicted price of a 1650 sq-ft, 3 br house (using gradient descent): $\"\n",
    "      + str(price))"
   ]
  },
  {
   "cell_type": "markdown",
   "metadata": {},
   "source": [
    "## Selecting learning rates\n",
    "\n",
    "In this part of the exercise, you will get to try out different learning rates for the dataset and find a learning rate that converges quickly.\n",
    "\n",
    "The next phase in will call your gradientDescent function and run gradient descent for about 50 iterations at the chosen learning\n",
    "rate. The function should also return the history of $J(\\theta)$ values in a vector J. After the last iteration, the script plots the J values against the number of the iterations.\n",
    "\n",
    "If you picked a learning rate within a good range, your plot look similar the previous Figure. If your graph looks very different, especially if your value of $J(\\theta)$ increases or even blows up, adjust your learning rate and try again. \n",
    "\n",
    "We recommend trying values of the learning rate $\\alpha$ on a log-scale, at multiplicative steps of about 3 times the previous value (i.e., 0.3, 0.1, 0.03, 0.01 and so on). You may also want to adjust the number of iterations you are running if that will help you see the overall trend in the curve.\n",
    "\n",
    "**Implementation Note:** If your learning rate is too large, $J(\\theta)$ can diverge and \"blow up\", resulting in values which are too large for computer calculations.\n",
    "\n",
    "Notice the changes in the convergence curves as the learning rate changes. With a small learning rate, you should find that gradient descent takes a very long time to converge to the optimal value. Conversely, with a large learning rate, gradient descent might not converge or might even diverge!\n",
    "\n",
    "Using the best learning rate that you found, run the script\n",
    "to run gradient descent until convergence to find the final values of $\\theta$. Next, use this value of $\\theta$ to predict the price of a house with 1650 square feet and 3 bedrooms. You will use value later to check your implementation of the normal equations. Don't forget to normalize your features when you make this prediction!"
   ]
  },
  {
   "cell_type": "code",
   "execution_count": 4,
   "metadata": {},
   "outputs": [
    {
     "data": {
      "image/png": "[encoded data removed]",
      "text/plain": [
       "<matplotlib.figure.Figure at 0x257e38b33c8>"
      ]
     },
     "metadata": {},
     "output_type": "display_data"
    }
   ],
   "source": [
    "alpha_v = [1, 0.3, 0.1, 0.03, 0.01, 0.003, 0.001]\n",
    "num_iters = 1000\n",
    "\n",
    "for a in alpha_v:\n",
    "    theta = np.zeros([3,1])\n",
    "    [theta, J_history] = gradientDescent(Xnorm, y, theta, a, num_iters)\n",
    "    plt.plot(J_history, label = a)\n",
    "plt.legend(loc = 1)\n",
    "plt.show()"
   ]
  },
  {
   "cell_type": "code",
   "execution_count": 5,
   "metadata": {},
   "outputs": [
    {
     "name": "stdout",
     "output_type": "stream",
     "text": [
      "Theta computed from gradient descent: \n",
      "\n",
      "[[ 340412.65957447]\n",
      " [ 109447.79646964]\n",
      " [  -6578.35485416]]\n",
      "\n",
      "Predicted price of a 1650 sq-ft, 3 br house (using gradient descent): \n",
      "$299560.46\n"
     ]
    }
   ],
   "source": [
    "# Init Theta and Run Gradient Descent \n",
    "alpha = 1\n",
    "theta = np.zeros([3,1])\n",
    "[theta, J_history] = gradientDescent(Xnorm, y, theta, alpha, num_iters)\n",
    "\n",
    "# Display gradient descent's result\n",
    "print('Theta computed from gradient descent: \\n');\n",
    "print(theta);\n",
    "\n",
    "# Estimate the price of a 1650 sq-ft, 3 br house\n",
    "# Recall that the first column of X is all-ones. Thus, it does not need to be \n",
    "# normalized.\n",
    "\n",
    "Xnew = np.array([1, (1650 - mu[0,0]) / sigma[0,0], 3 - mu[0,1]/sigma[0,1]])\n",
    "price = Xnew.dot(theta).round(2)[0]\n",
    "\n",
    "print(\"\\nPredicted price of a 1650 sq-ft, 3 br house (using gradient descent): \\n$\"\n",
    "      + str(price))"
   ]
  },
  {
   "cell_type": "markdown",
   "metadata": {},
   "source": [
    "## Normal Equations\n",
    "\n",
    "The closed-form solution to linear regression is\n",
    "\\begin{equation}\n",
    "\\theta = (X^{T}X)^{-1} X^{T} {y}\n",
    "\\end{equation}\n",
    "\n",
    "Using this formula does not require any feature scaling, and you will get an exact solution in one calculation: there is no \"loop until convergence\" like in gradient descent."
   ]
  },
  {
   "cell_type": "code",
   "execution_count": 6,
   "metadata": {},
   "outputs": [
    {
     "name": "stdout",
     "output_type": "stream",
     "text": [
      "Theta computed from normal equations: \n",
      "\n",
      "[[ 340412.65957447]\n",
      " [ 109447.79646964]\n",
      " [  -6578.35485416]]\n",
      "\n",
      "Predicted price of a 1650 sq-ft, 3 br house (using closed-form solution): \n",
      "$299560.46\n"
     ]
    }
   ],
   "source": [
    "# Compute the closed-form solution to linear regression\n",
    "def normalEqn(X, y):\n",
    "    \"\"\"\n",
    "    NORMALEQN(X,y) computes the closed-form solution to linear \n",
    "    regression using the normal equations.\n",
    "    \"\"\"\n",
    "    \n",
    "    tmp =  X.T.dot(X)\n",
    "    tmp = np.linalg.inv(tmp)\n",
    "    \n",
    "    theta = tmp.dot(X.T).dot(y)\n",
    "    return(theta)\n",
    "\n",
    "theta_norm = normalEqn(Xnorm, y)\n",
    "\n",
    "# Display normal equations's result\n",
    "print('Theta computed from normal equations: \\n');\n",
    "print(theta_norm);\n",
    "\n",
    "# Estimate the price of a 1650 sq-ft, 3 br house\n",
    "price_norm = Xnew.dot(theta_norm).round(2)[0]\n",
    "print(\"\\nPredicted price of a 1650 sq-ft, 3 br house (using closed-form solution): \\n$\"\n",
    "      + str(price_norm))"
   ]
  },
  {
   "cell_type": "markdown",
   "metadata": {},
   "source": [
    "## Ordinary Least Squares using scikit learn\n",
    "\n",
    "LinearRegression fits a linear model with coefficients $w = (w_1, ..., w_p)$ to minimize the residual sum of squares between the observed responses in the dataset, and the responses predicted by the linear approximation. Mathematically it solves a problem of the form:\n",
    "\n",
    "\\begin{equation}\n",
    "\\underset{w}{min\\,} {|| X w - y||_2}^2\n",
    "\\end{equation}\n",
    "\n",
    "LinearRegression will take in its fit method arrays X, y and will store the coefficients w of the linear model in its coef_ member."
   ]
  },
  {
   "cell_type": "code",
   "execution_count": 7,
   "metadata": {},
   "outputs": [
    {
     "name": "stdout",
     "output_type": "stream",
     "text": [
      "Theta computed from sklearn LinearRegression: \n",
      "\n",
      "[[ 89597.9095428 ]\n",
      " [   139.21067402]\n",
      " [ -8738.01911233]]\n",
      "\n",
      "Predicted price of a 1650 sq-ft, 3 br house (using sklearn): \n",
      "$293081.46\n"
     ]
    }
   ],
   "source": [
    "from sklearn.linear_model import LinearRegression\n",
    "\n",
    "# Fitting Multiple Linear Regression \n",
    "regressor = LinearRegression(fit_intercept=True, normalize=True)\n",
    "regressor.fit(X, y)\n",
    "\n",
    "theta_sk = np.array([regressor.intercept_[0], \n",
    "                    regressor.coef_[0,0],\n",
    "                    regressor.coef_[0,1]]).reshape(3,1)\n",
    "    \n",
    "# Display sklearn's result\n",
    "print('Theta computed from sklearn LinearRegression: \\n');\n",
    "print(theta_sk);\n",
    "\n",
    "# Estimate the price of a 1650 sq-ft, 3 br house\n",
    "price_sk = regressor.predict(np.array([1650, 3]).reshape(1,2))\n",
    "price_sk = price_sk.round(2)\n",
    " \n",
    "print(\"\\nPredicted price of a 1650 sq-ft, 3 br house (using sklearn): \\n$\"\n",
    "      + str(price_sk[0,0]))"
   ]
  }
 ],
 "metadata": {
  "kernelspec": {
   "display_name": "Python 3",
   "language": "python",
   "name": "python3"
  },
  "language_info": {
   "codemirror_mode": {
    "name": "ipython",
    "version": 3
   },
   "file_extension": ".py",
   "mimetype": "text/x-python",
   "name": "python",
   "nbconvert_exporter": "python",
   "pygments_lexer": "ipython3",
   "version": "3.6.2"
  }
 },
 "nbformat": 4,
 "nbformat_minor": 2
}
