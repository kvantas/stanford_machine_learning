{
 "cells": [
  {
   "cell_type": "markdown",
   "metadata": {},
   "source": [
    "# Linear Regression with Multiple Variables\n",
    "\n",
    "Linear regression with multiple variables is also known as \"multivariate linear regression\". We now introduce notation for equations where we can have any number of input variables.\n",
    "\n",
    "* $x_j(i)$ = value of feature j in the $i^{th}$ training example\n",
    "* $x(i)$ = the column vector of all the feature inputs of the $i^{th}$ training example\n",
    "* $m$ = the number of training examples\n",
    "* $n=|x(i)|$ the number of features\n",
    "\n",
    "Now define the multivariable form of the hypothesis function as follows, accommodating these multiple features:\n",
    "\n",
    "$$ h_\\theta (x) = \\theta_0 + \\theta_1 x_1 + \\theta_2 x_2 + \\theta_3 x_3 + \\cdots + \\theta_n x_n $$"
   ]
  },
  {
   "cell_type": "markdown",
   "metadata": {
    "collapsed": true
   },
   "source": [
    "In order to develop intuition about this function, we can think about $\\theta_0$ as the basic price of a house, $\\theta_1$ as the price per square meter, $\\theta_2$ as the price per floor, etc. $x_1$ will be the number of square meters in the house, $x_2$ the number of floors, etc.\n",
    "\n",
    "Using the definition of matrix multiplication, our multivariable hypothesis function can be concisely represented as:\n",
    "\n",
    "\\begin{equation}\n",
    "h_{\\theta}(x) = \n",
    "\\begin{bmatrix} \n",
    "\\theta_0 \\hspace{2em}  \n",
    "\\theta_1 \\hspace{2em}  \n",
    "...  \\hspace{2em}  \n",
    "\\theta_n\n",
    "\\end{bmatrix}\n",
    "\\begin{bmatrix}\n",
    "x_0 \\\\ \n",
    "x_1 \\\\ \n",
    "\\vdots \\\\ \n",
    "x_n\n",
    "\\end{bmatrix} \n",
    "= \\theta^T x\n",
    "\\end{equation}"
   ]
  },
  {
   "cell_type": "markdown",
   "metadata": {},
   "source": [
    "This is a vectorization of our hypothesis function for one training example; see the lessons on vectorization to learn more.\n",
    "\n",
    "Remark: Note that for convenience reasons in this course Mr. Ng assumes $x_0^{(i)}=1$"
   ]
  },
  {
   "cell_type": "markdown",
   "metadata": {},
   "source": [
    "The training examples are stored in X row-wise, like such:\n",
    "\n",
    "\\begin{equation}\n",
    "X = \n",
    "\\begin{bmatrix} \n",
    "x^{(1)}_0 & x^{(1)}_1  \\\\\n",
    "x^{(2)}_0 & x^{(2)}_1  \\\\\n",
    "x^{(3)}_0 & x^{(3)}_1 \\\\\n",
    "\\end{bmatrix},\n",
    "\\theta = \n",
    "\\begin{bmatrix}\n",
    "\\theta_0 \\\\\n",
    "\\theta_1 \\\\\n",
    "\\end{bmatrix}\n",
    "\\end{equation}"
   ]
  },
  {
   "cell_type": "markdown",
   "metadata": {},
   "source": [
    "You can calculate the hypothesis as a column vector of size (m x 1) with:\n",
    "\\begin{equation}\n",
    "h_\\theta(X) = X \\theta\n",
    "\\end{equation}"
   ]
  },
  {
   "cell_type": "markdown",
   "metadata": {},
   "source": [
    "## Cost function\n",
    "\n",
    "For the parameter vector $\\theta$ the cost function is:\n",
    "\n",
    "\\begin{equation}\n",
    "J(\\theta) = \\frac {1}{2m}  \\sum_{i=1}^m \\left (h_\\theta (x^{(i)}) - y^{(i)} \\right)^2\n",
    "\\end{equation}\n",
    "\n",
    "The vectorized version is:\n",
    "\n",
    "\\begin{equation}\n",
    "J(\\theta) = \\frac {1}{2m} (X\\theta - \\vec{y})^{T} (X\\theta - \\vec{y})\n",
    "\\end{equation}\n",
    "\n",
    "Where $\\vec y$ denotes the vector of all y values."
   ]
  },
  {
   "cell_type": "markdown",
   "metadata": {},
   "source": [
    "## Gradient Descent for Multiple Variables\n",
    "\n",
    "The gradient descent equation itself is generally the same form; we just have to repeat it for our $n$ features:\n",
    "\n",
    "\\begin{equation}\n",
    "\\theta_j := \\theta_j - \\alpha \\frac{1}{m} \\sum_{i=1}^{m} (h_\\theta(x^{(i)}) - y^{(i)}) \\cdot x_j^{(i)} \\;  \\text{for j := 0...n}\n",
    "\\end{equation}"
   ]
  },
  {
   "cell_type": "markdown",
   "metadata": {
    "collapsed": true
   },
   "source": [
    "## Feature Normalization\n",
    "\n",
    "We can speed up gradient descent by having each of our input values in roughly the same range. This is because $\\theta$ will descend quickly on small ranges and slowly on large ranges, and so will oscillate inefficiently down to the optimum when the variables are very uneven.\n",
    "\n",
    "The way to prevent this is to modify the ranges of our input variables so that they are all roughly the same. Ideally:\n",
    "\n",
    "$$ -1 \\le x_{(i)} \\le 1 $$\n",
    "\n",
    "or \n",
    "\n",
    "$$ -0.5 \\le x_{(i)} \\le 0.5 $$\n",
    "\n",
    "These aren't exact requirements; we are only trying to speed things up. The goal is to get all input variables into roughly one of these ranges, give or take a few.\n",
    "\n",
    "Two techniques to help with this are **feature scaling** and **mean normalization**. Feature scaling involves dividing the input values by the range (i.e. the maximum value minus the minimum value) of the input variable, resulting in a new range of just 1. Mean normalization involves subtracting the average value for an input variable from the values for that input variable, resulting in a new average value for the input variable of just zero. To implement both of these techniques, adjust your input values as shown in this formula:\n",
    "\n",
    "$$ x_i = \\frac{x_i - \\mu_i}{s_i} $$"
   ]
  },
  {
   "cell_type": "markdown",
   "metadata": {},
   "source": [
    "Where $\\mu_i$ is the average of all the values for feature $(i)$ and $s_i$ is the range of values (max - min), or si is the standard deviation.\n",
    "\n",
    "Note that dividing by the range, or dividing by the standard deviation, give different results. The quizzes in this course use range - the programming exercises use standard deviation."
   ]
  },
  {
   "cell_type": "markdown",
   "metadata": {},
   "source": [
    "## Gradient Descent Tips\n",
    "\n",
    "**Debugging gradient descent**. Make a plot with number of iterations on the x-axis. Now plot the cost function, $J(\\theta)$ over the number of iterations of gradient descent. If $J(\\theta)$ ever increases, then you probably need to decrease $\\alpha$.\n",
    "\n",
    "Automatic convergence test. Declare convergence if $J(\\theta)$ decreases by less than $E$ in one iteration, where $E$ is some small value such as $10^{−3}$. However in practice it's difficult to choose this threshold value.\n",
    "\n",
    "It has been proven that if learning rate $\\alpha$ is sufficiently small, then $J(\\theta)$ will decrease on every iteration. Andrew Ng recommends decreasing $\\alpha$ by multiples of 3."
   ]
  },
  {
   "cell_type": "markdown",
   "metadata": {},
   "source": [
    "## Polynomial Regression\n",
    "\n",
    "Our hypothesis function need not be linear (a straight line) if that does not fit the data well.\n",
    "\n",
    "We can change the behavior or curve of our hypothesis function by making it a quadratic, cubic or square root function (or any other form).\n",
    "\n",
    "For example, if our hypothesis function is $h_\\theta(x) = \\theta_0 + \\theta_1 x_1$  then we can create additional features based on $x_1$, to  get the quadratic function:\n",
    "$$h_\\theta(x) = \\theta_0 + \\theta_1 x_1 + \\theta_2 x_1^2$$\n",
    "or the cubic function\n",
    "$$h_\\theta(x) = \\theta_0 + \\theta_1 x_1 + \\theta_2 x_1^2 + \\theta_3 x_1^3$$\n",
    "To make it a square root function, we could do:\n",
    "$$h_\\theta(x) = \\theta_0 + \\theta_1 x_1 + \\theta_2 \\sqrt{x_1}$$"
   ]
  },
  {
   "cell_type": "markdown",
   "metadata": {},
   "source": [
    "## Normal Equation\n",
    "\n",
    "The \"Normal Equation\" is a method of finding the optimum theta **without iteration**.\n",
    "\n",
    "$$\\theta = (X^T X)^{-1}X^T y$$\n",
    "\n",
    "There is no need to do feature scaling with the normal equation.\n",
    "\n",
    "Mathematical proof of the Normal equation requires knowledge of linear algebra and is fairly involved, so you do not need to worry about the details. Proofs are available at these links for those who are interested:\n",
    "\n",
    "https://en.wikipedia.org/wiki/Linear_least_squares_(mathematics)\n",
    "\n",
    "http://eli.thegreenplace.net/2014/derivation-of-the-normal-equation-for-linear-regression\n",
    "\n",
    "The following is a comparison of gradient descent and the normal equation:\n"
   ]
  },
  {
   "cell_type": "markdown",
   "metadata": {},
   "source": [
    "| ** Gradient Descent **     | **Normal Equation**        |\n",
    "| -------------------------- | ---------------------------|\n",
    "| Need to choose alpha\t     | No need to choose alpha    |\n",
    "| Needs many iterations\t     | No need to iterate         |\n",
    "| $O(kn^2)$\t                 |  $O(n3)$                   |\n",
    "| Works well when n is large |\tSlow if $n$ is very large |"
   ]
  },
  {
   "cell_type": "markdown",
   "metadata": {},
   "source": [
    "With the normal equation, computing the inversion has complexity $O(n^3)$. So if we have a very large number of features, the normal equation will be slow. In practice, when n exceeds 10,000 it might be a good time to go from a normal solution to an iterative process.\n",
    "\n",
    "### Normal Equation Noninvertibility\n",
    "\n",
    "When implementing the normal equation we want to use the 'pinv' function rather than 'inv.' $X^TX$ may be noninvertible. The common causes are:\n",
    "\n",
    "* Redundant features, where two features are very closely related (i.e. they are linearly dependent)\n",
    "* Too many features (e.g. m ≤ n). In this case, delete some features or use \"regularization\" \n",
    "\n",
    "Solutions to the above problems include deleting a feature that is linearly dependent with another or deleting one or more features when there are too many features."
   ]
  }
 ],
 "metadata": {
  "kernelspec": {
   "display_name": "Python 3",
   "language": "python",
   "name": "python3"
  },
  "language_info": {
   "codemirror_mode": {
    "name": "ipython",
    "version": 3
   },
   "file_extension": ".py",
   "mimetype": "text/x-python",
   "name": "python",
   "nbconvert_exporter": "python",
   "pygments_lexer": "ipython3",
   "version": "3.6.2"
  }
 },
 "nbformat": 4,
 "nbformat_minor": 2
}
